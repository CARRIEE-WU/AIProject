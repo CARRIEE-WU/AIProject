{
  "nbformat": 4,
  "nbformat_minor": 0,
  "metadata": {
    "colab": {
      "provenance": [],
      "gpuType": "T4",
      "include_colab_link": true
    },
    "kernelspec": {
      "name": "python3",
      "display_name": "Python 3"
    },
    "language_info": {
      "name": "python"
    },
    "accelerator": "GPU"
  },
  "cells": [
    {
      "cell_type": "markdown",
      "metadata": {
        "id": "view-in-github",
        "colab_type": "text"
      },
      "source": [
        "<a href=\"https://colab.research.google.com/github/CARRIEE-WU/AIProject/blob/master/cat_dog_classification.ipynb\" target=\"_parent\"><img src=\"https://colab.research.google.com/assets/colab-badge.svg\" alt=\"Open In Colab\"/></a>"
      ]
    },
    {
      "cell_type": "markdown",
      "source": [
        "## **Dogs and Cats Classification**"
      ],
      "metadata": {
        "id": "UmkDnjoly2iP"
      }
    },
    {
      "cell_type": "markdown",
      "source": [
        "## Connect to GitHub"
      ],
      "metadata": {
        "id": "y_CgwLvNzlMZ"
      }
    },
    {
      "cell_type": "code",
      "execution_count": 1,
      "metadata": {
        "colab": {
          "base_uri": "https://localhost:8080/"
        },
        "id": "DqIJj9PEjruS",
        "outputId": "2c141bd4-ca47-4ea8-8774-96f7824a865b"
      },
      "outputs": [
        {
          "output_type": "stream",
          "name": "stdout",
          "text": [
            "Cloning into 'AIProject'...\n",
            "remote: Enumerating objects: 43, done.\u001b[K\n",
            "remote: Counting objects: 100% (43/43), done.\u001b[K\n",
            "remote: Compressing objects: 100% (41/41), done.\u001b[K\n",
            "remote: Total 43 (delta 9), reused 0 (delta 0), pack-reused 0\u001b[K\n",
            "Receiving objects: 100% (43/43), 315.67 KiB | 13.15 MiB/s, done.\n",
            "Resolving deltas: 100% (9/9), done.\n"
          ]
        }
      ],
      "source": [
        "!git clone https://github.com/a945120/AIProject.git"
      ]
    },
    {
      "cell_type": "markdown",
      "source": [
        "## Import Modules"
      ],
      "metadata": {
        "id": "V8_xKftp0lfj"
      }
    },
    {
      "cell_type": "code",
      "source": [
        "import numpy as np\n",
        "import pandas as pd\n",
        "import matplotlib.pyplot as plt\n",
        "import warnings\n",
        "import os\n",
        "import tqdm\n",
        "from keras.preprocessing.image import load_img\n",
        "warnings.filterwarnings('ignore')"
      ],
      "metadata": {
        "id": "zhTVrG5xyREb"
      },
      "execution_count": 10,
      "outputs": []
    },
    {
      "cell_type": "markdown",
      "source": [
        "## Create Dataframe for Input and Output"
      ],
      "metadata": {
        "id": "gAts89wR1BPM"
      }
    },
    {
      "cell_type": "code",
      "source": [
        "input_path = []\n",
        "label = []\n",
        "\n",
        "for class_name in os.listdir(\"PetImages\"):\n",
        "  for path in os.listdir(\"PetImages/\"+class_name):\n",
        "    if class_name == 'Cat':\n",
        "      label.append(0)\n",
        "    else\n",
        "      label.append(1)\n",
        "    input_path.append(os.path.join(\"PetImages\", class_name, path))\n",
        "print(input_path[0], label[0])"
      ],
      "metadata": {
        "id": "2mTQLNOP1HKE"
      },
      "execution_count": null,
      "outputs": []
    },
    {
      "cell_type": "code",
      "source": [],
      "metadata": {
        "id": "4lltrKaD2FPA"
      },
      "execution_count": null,
      "outputs": []
    }
  ]
}